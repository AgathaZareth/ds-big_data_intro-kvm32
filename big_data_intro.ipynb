{
 "cells": [
  {
   "cell_type": "markdown",
   "metadata": {
    "toc": true
   },
   "source": [
    "<h1>Table of Contents<span class=\"tocSkip\"></span></h1>\n",
    "<div class=\"toc\"><ul class=\"toc-item\"><li><span><a href=\"#Objectives\" data-toc-modified-id=\"Objectives-1\"><span class=\"toc-item-num\">1&nbsp;&nbsp;</span>Objectives</a></span></li><li><span><a href=\"#What-is-Big-Data?\" data-toc-modified-id=\"What-is-Big-Data?-2\"><span class=\"toc-item-num\">2&nbsp;&nbsp;</span>What is Big Data?</a></span><ul class=\"toc-item\"><li><span><a href=\"#Numbers-Everyone-Should-Know\" data-toc-modified-id=\"Numbers-Everyone-Should-Know-2.1\"><span class=\"toc-item-num\">2.1&nbsp;&nbsp;</span>Numbers Everyone Should Know</a></span></li><li><span><a href=\"#The-3-Vs-of-Data\" data-toc-modified-id=\"The-3-Vs-of-Data-2.2\"><span class=\"toc-item-num\">2.2&nbsp;&nbsp;</span>The 3 Vs of Data</a></span></li></ul></li><li><span><a href=\"#Applying-it-via-Tools\" data-toc-modified-id=\"Applying-it-via-Tools-3\"><span class=\"toc-item-num\">3&nbsp;&nbsp;</span>Applying it via Tools</a></span><ul class=\"toc-item\"><li><span><a href=\"#Hadoop-Framework\" data-toc-modified-id=\"Hadoop-Framework-3.1\"><span class=\"toc-item-num\">3.1&nbsp;&nbsp;</span>Hadoop Framework</a></span></li><li><span><a href=\"#Apache-Spark\" data-toc-modified-id=\"Apache-Spark-3.2\"><span class=\"toc-item-num\">3.2&nbsp;&nbsp;</span>Apache Spark</a></span></li><li><span><a href=\"#But-it-is-isn't-always-the-best-tool!\" data-toc-modified-id=\"But-it-is-isn't-always-the-best-tool!-3.3\"><span class=\"toc-item-num\">3.3&nbsp;&nbsp;</span>But it is isn't always the best tool!</a></span></li></ul></li><li><span><a href=\"#What-Do-We-Mean-by-&quot;Parallel&quot;-&amp;-&quot;Distributed&quot;?\" data-toc-modified-id=\"What-Do-We-Mean-by-&quot;Parallel&quot;-&amp;-&quot;Distributed&quot;?-4\"><span class=\"toc-item-num\">4&nbsp;&nbsp;</span>What Do We Mean by \"Parallel\" &amp; \"Distributed\"?</a></span><ul class=\"toc-item\"><li><span><a href=\"#Distributed\" data-toc-modified-id=\"Distributed-4.1\"><span class=\"toc-item-num\">4.1&nbsp;&nbsp;</span>Distributed</a></span></li><li><span><a href=\"#Sequential\" data-toc-modified-id=\"Sequential-4.2\"><span class=\"toc-item-num\">4.2&nbsp;&nbsp;</span>Sequential</a></span></li><li><span><a href=\"#Parallel\" data-toc-modified-id=\"Parallel-4.3\"><span class=\"toc-item-num\">4.3&nbsp;&nbsp;</span>Parallel</a></span></li></ul></li><li><span><a href=\"#MapReduce\" data-toc-modified-id=\"MapReduce-5\"><span class=\"toc-item-num\">5&nbsp;&nbsp;</span>MapReduce</a></span><ul class=\"toc-item\"><li><span><a href=\"#Steps-in-MapReduce\" data-toc-modified-id=\"Steps-in-MapReduce-5.1\"><span class=\"toc-item-num\">5.1&nbsp;&nbsp;</span>Steps in MapReduce</a></span><ul class=\"toc-item\"><li><span><a href=\"#Split\" data-toc-modified-id=\"Split-5.1.1\"><span class=\"toc-item-num\">5.1.1&nbsp;&nbsp;</span>Split</a></span></li><li><span><a href=\"#Map\" data-toc-modified-id=\"Map-5.1.2\"><span class=\"toc-item-num\">5.1.2&nbsp;&nbsp;</span>Map</a></span></li><li><span><a href=\"#Shuffle\" data-toc-modified-id=\"Shuffle-5.1.3\"><span class=\"toc-item-num\">5.1.3&nbsp;&nbsp;</span>Shuffle</a></span></li><li><span><a href=\"#Reduce\" data-toc-modified-id=\"Reduce-5.1.4\"><span class=\"toc-item-num\">5.1.4&nbsp;&nbsp;</span>Reduce</a></span></li></ul></li></ul></li></ul></div>"
   ]
  },
  {
   "cell_type": "markdown",
   "metadata": {
    "heading_collapsed": true
   },
   "source": [
    "# Objectives"
   ]
  },
  {
   "cell_type": "markdown",
   "metadata": {
    "hidden": true
   },
   "source": [
    "- Understand what is \"big data\"\n",
    "- Know why big data is different and how it can be processed\n",
    "- Understand how data can be handled in distributed and parallel systems"
   ]
  },
  {
   "cell_type": "markdown",
   "metadata": {
    "heading_collapsed": true
   },
   "source": [
    "# What is Big Data?"
   ]
  },
  {
   "cell_type": "markdown",
   "metadata": {
    "hidden": true
   },
   "source": [
    "> A different amount makes a different kind"
   ]
  },
  {
   "cell_type": "markdown",
   "metadata": {
    "hidden": true
   },
   "source": [
    "There is no clear/agreed upon definition but typically we say we're working on **big data** if we have to use something like a distributed computing system (not just one local machine)"
   ]
  },
  {
   "cell_type": "markdown",
   "metadata": {
    "heading_collapsed": true,
    "hidden": true
   },
   "source": [
    "## Numbers Everyone Should Know"
   ]
  },
  {
   "cell_type": "markdown",
   "metadata": {
    "hidden": true
   },
   "source": [
    "To determine big data, we should consider the ***\"numbers everyone should know\"*** "
   ]
  },
  {
   "cell_type": "markdown",
   "metadata": {
    "hidden": true
   },
   "source": [
    "- CPU\n",
    "    + Brain\n",
    "    + 0.5 ns\n",
    "- Memory (RAM)\n",
    "    + Short-term memory\n",
    "    + 100 ns\n",
    "    + ~ 200x slower than CPU\n",
    "- Storage (SSD/HDD)\n",
    "    + Long-term memory\n",
    "    + 15 µs / 800 µs (15,000 ns / 8,000,000 ns)\n",
    "    + ~ 15x slower than memory\n",
    "- Network\n",
    "    + Connecting machines\n",
    "    + 150 ms (150,000,000 ns)\n",
    "    + ~ 20x slower than storage\n",
    "    "
   ]
  },
  {
   "cell_type": "markdown",
   "metadata": {
    "hidden": true
   },
   "source": [
    "    \n",
    "Originally Jeff Dean & Peter Norvig; original blog: http://norvig.com/21-days.html#Answers "
   ]
  },
  {
   "cell_type": "markdown",
   "metadata": {
    "hidden": true
   },
   "source": [
    "Interactive numbers: https://people.eecs.berkeley.edu/~rcs/research/interactive_latency.html"
   ]
  },
  {
   "cell_type": "markdown",
   "metadata": {
    "hidden": true
   },
   "source": [
    "**Thrashing**: when your CPU is bored, waiting for tasks to do since it has to wait for their slowpoke friends"
   ]
  },
  {
   "cell_type": "markdown",
   "metadata": {
    "heading_collapsed": true,
    "hidden": true
   },
   "source": [
    "## The 3 Vs of Data"
   ]
  },
  {
   "cell_type": "markdown",
   "metadata": {
    "hidden": true
   },
   "source": [
    "+ Volume --> Large Amounts\n",
    "+ Velocity --> Quickly Generated\n",
    "+ Variety --> Unstructured "
   ]
  },
  {
   "cell_type": "markdown",
   "metadata": {
    "hidden": true
   },
   "source": [
    "![](images/3vs.png)"
   ]
  },
  {
   "cell_type": "markdown",
   "metadata": {
    "hidden": true
   },
   "source": [
    "Data is *big* when it is better/faster to split the work over the network amongst more (parallel) because of one or more of these Vs"
   ]
  },
  {
   "cell_type": "markdown",
   "metadata": {
    "heading_collapsed": true
   },
   "source": [
    "# Applying it via Tools"
   ]
  },
  {
   "cell_type": "markdown",
   "metadata": {
    "heading_collapsed": true,
    "hidden": true
   },
   "source": [
    "## Hadoop Framework"
   ]
  },
  {
   "cell_type": "markdown",
   "metadata": {
    "hidden": true
   },
   "source": [
    "![](images/hadoop_logo.png)"
   ]
  },
  {
   "cell_type": "markdown",
   "metadata": {
    "hidden": true
   },
   "source": [
    "> Considered \"old-school\"\n",
    ">\n",
    "> Slower since it has to write to disk each time\n",
    "\n",
    "- Storage (usually HDFS) \n",
    "- Data Processing (MapReduce)\n",
    "- Resource Management"
   ]
  },
  {
   "cell_type": "markdown",
   "metadata": {
    "heading_collapsed": true,
    "hidden": true
   },
   "source": [
    "## Apache Spark"
   ]
  },
  {
   "cell_type": "markdown",
   "metadata": {
    "hidden": true
   },
   "source": [
    "![](images/apache_spark_logo.png)"
   ]
  },
  {
   "cell_type": "markdown",
   "metadata": {
    "hidden": true
   },
   "source": [
    "> Holds data in memory whenever possible (faster)\n",
    ">\n",
    "> Can still be built on top of Hadoop but also S3 on AWS"
   ]
  },
  {
   "cell_type": "markdown",
   "metadata": {
    "hidden": true
   },
   "source": [
    "Spark has become king of data since it does a good job with ETL (Extract-Transform-Load) & ML in distributed systems"
   ]
  },
  {
   "cell_type": "markdown",
   "metadata": {
    "heading_collapsed": true,
    "hidden": true
   },
   "source": [
    "## But it is isn't always the best tool!"
   ]
  },
  {
   "cell_type": "markdown",
   "metadata": {
    "hidden": true
   },
   "source": [
    "You can think of what we've been doing so far to test out Big Data. You can also use PySpark in Local Mode! No cluster required!!!"
   ]
  },
  {
   "cell_type": "markdown",
   "metadata": {
    "hidden": true
   },
   "source": [
    "![](images/tech_stack.png)"
   ]
  },
  {
   "cell_type": "markdown",
   "metadata": {
    "heading_collapsed": true
   },
   "source": [
    "# What Do We Mean by \"Parallel\" & \"Distributed\"?"
   ]
  },
  {
   "cell_type": "markdown",
   "metadata": {
    "heading_collapsed": true,
    "hidden": true
   },
   "source": [
    "## Distributed"
   ]
  },
  {
   "cell_type": "markdown",
   "metadata": {
    "hidden": true
   },
   "source": [
    "![](images/types_of_network.png)"
   ]
  },
  {
   "cell_type": "markdown",
   "metadata": {
    "hidden": true
   },
   "source": [
    "> tasks split up and executed by different workers\n",
    "\n",
    "+ Multiple CPUs each have their own memory\n",
    "+ Multiple CPUs share via a network (using \"messages\")"
   ]
  },
  {
   "cell_type": "markdown",
   "metadata": {
    "heading_collapsed": true,
    "hidden": true
   },
   "source": [
    "## Sequential"
   ]
  },
  {
   "cell_type": "markdown",
   "metadata": {
    "hidden": true
   },
   "source": [
    "![](images/sequential.png)"
   ]
  },
  {
   "cell_type": "markdown",
   "metadata": {
    "hidden": true
   },
   "source": [
    "> Take a step at a time"
   ]
  },
  {
   "cell_type": "markdown",
   "metadata": {
    "heading_collapsed": true,
    "hidden": true
   },
   "source": [
    "## Parallel"
   ]
  },
  {
   "cell_type": "markdown",
   "metadata": {
    "hidden": true
   },
   "source": [
    "![](images/parallel.png)"
   ]
  },
  {
   "cell_type": "markdown",
   "metadata": {
    "hidden": true
   },
   "source": [
    "> executing tasks in a non-sequential order\n",
    "\n",
    "+ Multiple CPUs share same memory to \"communicate\""
   ]
  },
  {
   "cell_type": "markdown",
   "metadata": {
    "heading_collapsed": true
   },
   "source": [
    "# MapReduce"
   ]
  },
  {
   "cell_type": "markdown",
   "metadata": {
    "hidden": true
   },
   "source": [
    "Describes two jobs: **Map** & **Reduce**"
   ]
  },
  {
   "cell_type": "markdown",
   "metadata": {
    "hidden": true
   },
   "source": [
    "Software best for **clusters**"
   ]
  },
  {
   "cell_type": "markdown",
   "metadata": {
    "hidden": true
   },
   "source": [
    "Below explain each steps of the process:"
   ]
  },
  {
   "cell_type": "markdown",
   "metadata": {
    "hidden": true
   },
   "source": [
    "![](images/word_count.png)"
   ]
  },
  {
   "cell_type": "markdown",
   "metadata": {
    "heading_collapsed": true,
    "hidden": true
   },
   "source": [
    "## Steps in MapReduce"
   ]
  },
  {
   "cell_type": "markdown",
   "metadata": {
    "hidden": true
   },
   "source": [
    "![](images/mapreduce_visual.jpg)"
   ]
  },
  {
   "cell_type": "markdown",
   "metadata": {
    "heading_collapsed": true,
    "hidden": true
   },
   "source": [
    "### Split"
   ]
  },
  {
   "cell_type": "markdown",
   "metadata": {
    "hidden": true
   },
   "source": [
    "> Assign tasks to each worker"
   ]
  },
  {
   "cell_type": "markdown",
   "metadata": {
    "heading_collapsed": true,
    "hidden": true
   },
   "source": [
    "### Map"
   ]
  },
  {
   "cell_type": "markdown",
   "metadata": {
    "hidden": true
   },
   "source": [
    "> Map is another word for function: takes in data as one form, and \n",
    "transforms/maps it to another form"
   ]
  },
  {
   "cell_type": "markdown",
   "metadata": {
    "hidden": true
   },
   "source": [
    "We create key-value pairs (tuples)"
   ]
  },
  {
   "cell_type": "markdown",
   "metadata": {
    "heading_collapsed": true,
    "hidden": true
   },
   "source": [
    "### Shuffle"
   ]
  },
  {
   "cell_type": "markdown",
   "metadata": {
    "hidden": true
   },
   "source": [
    "> Reorganize to make reducing easier"
   ]
  },
  {
   "cell_type": "markdown",
   "metadata": {
    "heading_collapsed": true,
    "hidden": true
   },
   "source": [
    "### Reduce"
   ]
  },
  {
   "cell_type": "markdown",
   "metadata": {
    "hidden": true
   },
   "source": [
    "> Takes data from the map and _combines_ the data into smaller sets"
   ]
  }
 ],
 "metadata": {
  "kernelspec": {
   "display_name": "Python 3",
   "language": "python",
   "name": "python3"
  },
  "language_info": {
   "codemirror_mode": {
    "name": "ipython",
    "version": 3
   },
   "file_extension": ".py",
   "mimetype": "text/x-python",
   "name": "python",
   "nbconvert_exporter": "python",
   "pygments_lexer": "ipython3",
   "version": "3.8.5"
  },
  "toc": {
   "base_numbering": 1,
   "nav_menu": {},
   "number_sections": true,
   "sideBar": true,
   "skip_h1_title": false,
   "title_cell": "Table of Contents",
   "title_sidebar": "Contents",
   "toc_cell": true,
   "toc_position": {},
   "toc_section_display": true,
   "toc_window_display": true
  },
  "varInspector": {
   "cols": {
    "lenName": 16,
    "lenType": 16,
    "lenVar": 40
   },
   "kernels_config": {
    "python": {
     "delete_cmd_postfix": "",
     "delete_cmd_prefix": "del ",
     "library": "var_list.py",
     "varRefreshCmd": "print(var_dic_list())"
    },
    "r": {
     "delete_cmd_postfix": ") ",
     "delete_cmd_prefix": "rm(",
     "library": "var_list.r",
     "varRefreshCmd": "cat(var_dic_list()) "
    }
   },
   "types_to_exclude": [
    "module",
    "function",
    "builtin_function_or_method",
    "instance",
    "_Feature"
   ],
   "window_display": false
  }
 },
 "nbformat": 4,
 "nbformat_minor": 2
}
